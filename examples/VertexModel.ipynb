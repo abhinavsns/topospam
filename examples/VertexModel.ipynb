{
 "cells": [
  {
   "cell_type": "markdown",
   "id": "55a7423b",
   "metadata": {},
   "source": [
    "# TopoSPAM - Topological Simulation Platform for Active Matter\n",
    "## Active 3D vertex model example\n"
   ]
  },
  {
   "cell_type": "code",
   "execution_count": 10,
   "id": "d56727e1",
   "metadata": {},
   "outputs": [
    {
     "name": "stdout",
     "output_type": "stream",
     "text": [
      "Success: The path '..' contains the TopoSPAM repository.\n"
     ]
    }
   ],
   "source": [
    "import topospam as topospam\n",
    "%matplotlib inline\n",
    "repo_path=topospam.set_repo_path('..')"
   ]
  },
  {
   "cell_type": "markdown",
   "id": "5b7bda61",
   "metadata": {},
   "source": [
    "## Active 3D vertex model on a sphere\n",
    "\n",
    "We build an active 3D vertex model to simulate the dynamics of a biological tissue which actively interacts with its environment. \n",
    "\n",
    "In general, in a Vertex model, space is entirely subdivided into cells, which are each represented by a polygon (or polyhedron). For the cells, parameters like a preferred cell surface area or circumference can be defined. Each cell's deviations from these preferred values contributes to the so-called work function $W$ of the Vertex model\n",
    "\n",
    "$$ W = \\sum_{\\alpha \\in \\text{cells}} \\frac{1}{2} K^{\\alpha} \\left( A^{\\alpha} - A_{0}^{\\alpha} \\right)^2 + \\sum_{\\alpha \\in \\text{cells}} \\frac{1}{2} \\Lambda^{\\alpha} L^{\\alpha} .$$\n",
    "\n",
    "Here, $A^{\\alpha}$ is the surface are a of cell $\\alpha$, $A_{0}^{\\alpha}$ its respective preferred value and $K^{\\alpha}$ the cell's area stiffness. Furthermore, $L^{\\alpha}$ is the cell's perimeter and $\\Lambda^{\\alpha}$ its bond tension.  \n",
    "\n",
    "In a standard vertext model, the dynamics of the system is entirely determined by the work function. In each step, the model attempts to move the vertices (i.e. the 3-cell contact points) in such a way as to minimise $W$. \n",
    "\n",
    "In contrast, we here provide an active vertex model, meaning that the cells additionally exert active forces on their surroundings and thus influence the dynamics of the system. Thus, at each vertex $m$ located at position $\\mathbf{X}_m$, force balance reads\n",
    "\n",
    "$$ \\xi \\mathbf{v}_m = F \\langle \\mathbf{p} \\rangle_m - \\frac{\\partial W}{\\partial \\mathbf{X}_m} + f_m^n \\mathbf{\\hat{n}}_m ,$$\n",
    "\n",
    "where $\\mathbf{m}_m$ is the velocity of vertex m, and $\\xi$ is the friction coefficient with the environment. The first term on the right hand side describes traction forces of magnitude $F$ exerted by the (three) cells abutting at vertex $m$ and in the average direction of their polarities $\\langle \\mathbf{p} \\rangle_m = \\sum_{\\langle \\alpha | m \\rangle } \\mathbf{p}_{\\alpha} / M_{\\alpha}$, where $\\mathbf{p}_{\\alpha}$ and $M_{\\alpha}$ are each cell's polarity and number of vertices, respectively. $f_m^n$ is the magnitude of the normal force at vertex $m$.\n",
    "Note that we here built a model with cells on a sphere where each cell is represented by a polygon on the sphere surface and that we consider a non-deforming geometry by setting $\\mathbf{v}_m \\cdot \\mathbf{\\hat{n}}_m = 0$.\n",
    "\n",
    "In our model, the dynamics of the cell polarity vectors, which direct the traction forces exerted by the cells, is given by\n",
    "\n",
    "$$ \\frac{D \\mathbf{p}_{\\alpha}}{D t} = \\gamma \\langle \\mathbf{p} \\rangle_{\\alpha} + \\sqrt{2 \\mathcal{D}_r} \\mathbf{\\eta}_{t} + \\mu \\mathbf{p}_{\\alpha} + p_{\\alpha}^n \\mathbf{\\hat{n}}_{\\alpha} .$$\n",
    "\n",
    "Here, $D/D t$ denotes a co-rotational time derivative. The first term on the right hand side accounts for the alignment of cell polarity with the average polarity of its $M_{\\alpha}$ neares neighbors $ \\langle p \\rangle_{\\alpha} = (1 / M_{\\alpha}) \\sum_{\\langle \\alpha' | \\alpha \\rangle} \\mathbf{p}_{\\alpha'}$ with the rate $\\gamma$. The second term accounts for rotational noise with a diffusion coefficient $\\mathcal{D}_r$. The polarity noise $\\mathbf{\\eta}(t) = \\mathbf{\\hat{s}}_{\\perp} \\eta(t)$ is perpendicular to both cell polarity and the normal vector at the cell center, $\\mathbf{\\hat{s}}_{\\perp} = \\mathbf{\\hat{n}}_{\\alpha} \\times \\mathbf{p}_{\\alpha} / \\left| \\mathbf{\\hat{n}}_{\\alpha} \\times \\mathbf{p}_{\\alpha} \\right|$. The polarity noise magnitude $\\eta$ is a Gaussian variable with mean 0 and variance 1. The third term is used to impose $ \\left| \\mathbf{p}_{\\alpha} \\right| = 1$ at each time through a Lagrange multiplier $\\mu(t) = - \\gamma \\mathbf{p}_{\\alpha} \\cdot \\langle \\mathbf{p} \\rangle_{\\alpha}$. the last term ensures that the polarity remains in the tangent plane of the sphere by adding a normal component with the magnitude $p_{\\alpha}^n = - \\gamma \\langle \\mathbf{p} \\rangle_{\\alpha} \\cdot \\mathbf{\\hat{n}}_{\\alpha}$.\n",
    "\n",
    "Further details as well as an application of this model can be found in the literature: \n",
    "\n",
    "(https://www.biorxiv.org/content/10.1101/2022.09.29.510101v1)\n",
    "\n",
    "\n",
    "\n",
    "!!!!!!!!!!!!!!!The main source code with intiial conditions is located in bin/Active2d.cpp. This file can be modified as per user needs for different geometries and initial conditions. "
   ]
  },
  {
   "cell_type": "code",
   "execution_count": 11,
   "id": "50e66358",
   "metadata": {},
   "outputs": [],
   "source": [
    "VertexModelSimulator = topospam.vertex_model(repo_path)"
   ]
  },
  {
   "cell_type": "code",
   "execution_count": 12,
   "id": "28f6b86e",
   "metadata": {},
   "outputs": [],
   "source": [
    "VertexModelSimulator.params.time_step    = 0.2\n",
    "# ...number of time steps after which is frame will be written to output\n",
    "VertexModelSimulator.params.ninfo    = 10\n",
    "# ...the simulation will continue for nframes frames.\n",
    "# ...therefore, total steps = nframes * ninfo\n",
    "VertexModelSimulator.params.nframes    = 100\n",
    "# ...if set, after this many frames the noise on polarity turns off\n",
    "# ...if commented out, it gets default value: std::numeric_limits<unsigned>::max()\n",
    "VertexModelSimulator.params.noiseoff    = 2800\n",
    "# ...by default vertices are constrained on a spherical surface.\n",
    "# ...to relax this constrain and allow for radial deformations, un-comment:\n",
    "#VertexModelSimulator.params.spherical_constrain       = 0\n",
    "\n",
    "# ==============================  model parameters     ===================================\n",
    "# ...number of cells\n",
    "VertexModelSimulator.params.Nc       = 200\n",
    "# ...cell area stiffness\n",
    "VertexModelSimulator.params.Kc       = 1.0\n",
    "# ...cell preferred area\n",
    "VertexModelSimulator.params.A0c       = 1.0\n",
    "# ...cell bond tension\n",
    "VertexModelSimulator.params.bond_Tension   = 0.1\n",
    "# ...cell perimeter elasticity\n",
    "VertexModelSimulator.params.perim_Elasticity   = 0.0\n",
    "# ...cut-off and opening lengths of bonds for T1\n",
    "VertexModelSimulator.params.bond_T1_cutoff   = 0.04\n",
    "VertexModelSimulator.params.bond_T1_opening   = 0.045\n",
    "\n",
    "# ...vertex friction coefficient with external environment\n",
    "VertexModelSimulator.params.xi       = 1.0\n",
    "\n",
    "# ================== initial patterns of cell polarity (default=randomized) =============\n",
    "VertexModelSimulator.params.P0_axissymmetric       = 1\n",
    "# ...if P0_axissymmetric is set to 1, the code uses the parameters:\n",
    "VertexModelSimulator.params.P0_a0_by_PI       = 0\n",
    "VertexModelSimulator.params.P0_b0_by_PI       = 0\n",
    "\n",
    "# ================== changes initial cellular network, for ensemble averages =============\n",
    "VertexModelSimulator.params.run_id       = 1\n",
    "\n",
    "# ...if you do not want to initialize with a predefined surface, set the following to zero\n",
    "# ... if set to zero, a random tissue will be generated (default=1)\n",
    "VertexModelSimulator.params.read_initsurface       = 1\n",
    "\n",
    "#  ============================  parameters for active terms =============================\n",
    "# ...cell traction force magnitude\n",
    "VertexModelSimulator.params.F_mag   = 0.02\n",
    "# ...rate of cell polarity alignment with neighbors\n",
    "VertexModelSimulator.params.P_gamma   = 0.005\n",
    "# ...rate of cell polarity alignment with cell velocity\n",
    "VertexModelSimulator.params.P_nu   = 0.0\n",
    "# ...strength of rotational noise in the polarity\n",
    "VertexModelSimulator.params.P_noise   = 0.001\n",
    "# ...polarity norm constrains\n",
    "VertexModelSimulator.params.elastic_polarity       = 1\n",
    "# ...if elastic_polarity is set to 1, instead of a hard constrain |p|=1, the molecular field\n",
    "# ...in polarity p dynamics will include the term:  P_A * (1. |p|^2 ) * p\n",
    "VertexModelSimulator.params.P_A       = 0.001\n",
    "\n",
    "#  ======================  setting seed and initial noise used for debugging =============\n",
    "VertexModelSimulator.params.noise   = 0.01\n",
    "VertexModelSimulator.params.seed   = 1"
   ]
  },
  {
   "cell_type": "code",
   "execution_count": 13,
   "id": "e2c98256",
   "metadata": {},
   "outputs": [
    {
     "name": "stdout",
     "output_type": "stream",
     "text": [
      "Preparation run time :                    0.028 s\n",
      "Algorithm run time :                    0.348 s\n"
     ]
    }
   ],
   "source": [
    "VertexModelSimulator.RunSimulation()"
   ]
  },
  {
   "cell_type": "code",
   "execution_count": 14,
   "id": "d91efb0e",
   "metadata": {},
   "outputs": [],
   "source": [
    "# ================================ initial configuration =====================\n",
    "# ...to stop outputing results un-comment this:\n",
    "#no_write       = 1\n",
    "# ...should I write the data to vtk files?\n",
    "VertexModelSimulator.analyzeParams.write_to_vtk       = 1\n",
    "# ...should I analyze the cell elongation patterns?\n",
    "VertexModelSimulator.analyzeParams.analyze_elongation       = 1\n",
    "# ...should I decompose apical surface to vector spherical harmonics modes\n",
    "VertexModelSimulator.analyzeParams.analyze_apical_surface_VSH       = 1\n",
    "# ...should I decompose cell polarity field to vector spherical harmonics modes\n",
    "VertexModelSimulator.analyzeParams.analyze_cell_polarity_VSH       = 1\n",
    "# ...should I analyze the coarse-grained curvature tensor on defined patches\n",
    "VertexModelSimulator.analyzeParams.compute_curvature_tensor       = 1\n",
    "# ...should I analyze tissue rotation, angular velocity and residual from solid body?\n",
    "VertexModelSimulator.analyzeParams.analyze_rotation       = 1\n",
    "# ...should I align such that rotation axis points to z-direction?\n",
    "VertexModelSimulator.analyzeParams.align_before_writing       = 1\n",
    "# ...should I analyze data in co-rotating fram?\n",
    "VertexModelSimulator.analyzeParams.analysis_in_corotating_frame       = 1\n",
    "# ... what kind of data should be written to vtk?\n",
    "VertexModelSimulator.analyzeParams.write_apical_polygonal_surface       = 1\n",
    "VertexModelSimulator.analyzeParams.write_basal_polygonal_surface       = 0\n",
    "VertexModelSimulator.analyzeParams.write_apical_triangulated_surface       = 1\n",
    "VertexModelSimulator.analyzeParams.write_basal_triangulated_surface       = 1\n",
    "VertexModelSimulator.analyzeParams.write_full_3D_triangulated_surface       = 1\n",
    "VertexModelSimulator.analyzeParams.write_polarity_field       = 1\n",
    "VertexModelSimulator.analyzeParams.write_nematic_field       = 1\n",
    "\n",
    "# ==============================  Model specific parameters     ===================================\n",
    "# ...the maximum l mode for vector spherical harmonics mode decomposition?\n",
    "VertexModelSimulator.analyzeParams.Lmax       = 4\n",
    "# ... first frame number inside data_dir to be analyzed\n",
    "VertexModelSimulator.analyzeParams.first_frame       = 1\n",
    "# ... last frame number inside data_dir to be analyzed\n",
    "VertexModelSimulator.analyzeParams.last_frame       = 100"
   ]
  },
  {
   "cell_type": "code",
   "execution_count": 15,
   "id": "5f0ff34f",
   "metadata": {},
   "outputs": [
    {
     "name": "stdout",
     "output_type": "stream",
     "text": [
      "100\n",
      "Analysis run time :                    17.234 s\n"
     ]
    }
   ],
   "source": [
    "VertexModelSimulator.AnalyzeData()"
   ]
  },
  {
   "cell_type": "code",
   "execution_count": 16,
   "id": "e91a5c79",
   "metadata": {},
   "outputs": [
    {
     "data": {
      "application/vnd.jupyter.widget-view+json": {
       "model_id": "93c47076f6494e4d9a3d8ef6d1ee266d",
       "version_major": 2,
       "version_minor": 0
      },
      "text/plain": [
       "Widget(value='<iframe src=\"http://localhost:46729/index.html?ui=P_0x7bd8c6110f80_1&reconnect=auto\" class=\"pyvi…"
      ]
     },
     "metadata": {},
     "output_type": "display_data"
    }
   ],
   "source": [
    "Plot=VertexModelSimulator.VizualizeIteration(10,edges=True)"
   ]
  },
  {
   "cell_type": "code",
   "execution_count": 17,
   "id": "7ed38f86",
   "metadata": {},
   "outputs": [],
   "source": [
    "VertexModelSimulator.VizualizeAnimate(gif_name=\"animation.gif\",edges=True)"
   ]
  },
  {
   "cell_type": "code",
   "execution_count": 18,
   "id": "5d1991ef",
   "metadata": {},
   "outputs": [
    {
     "data": {
      "text/html": [
       "<img src=\"./animation.gif\">"
      ],
      "text/plain": [
       "<IPython.core.display.HTML object>"
      ]
     },
     "execution_count": 18,
     "metadata": {},
     "output_type": "execute_result"
    }
   ],
   "source": [
    "from IPython.display import HTML\n",
    "HTML('<img src=\"./animation.gif\">')"
   ]
  },
  {
   "cell_type": "code",
   "execution_count": null,
   "id": "ada7ae8c",
   "metadata": {},
   "outputs": [],
   "source": []
  },
  {
   "cell_type": "code",
   "execution_count": null,
   "id": "78f7119e",
   "metadata": {},
   "outputs": [],
   "source": []
  }
 ],
 "metadata": {
  "kernelspec": {
   "display_name": "Python 3 (ipykernel)",
   "language": "python",
   "name": "python3"
  },
  "language_info": {
   "codemirror_mode": {
    "name": "ipython",
    "version": 3
   },
   "file_extension": ".py",
   "mimetype": "text/x-python",
   "name": "python",
   "nbconvert_exporter": "python",
   "pygments_lexer": "ipython3",
   "version": "3.12.3"
  }
 },
 "nbformat": 4,
 "nbformat_minor": 5
}
