{
 "cells": [
  {
   "cell_type": "markdown",
   "id": "55a7423b",
   "metadata": {},
   "source": [
    "# TopoSPAM - Topological Simulation Platform for Active Matter\n",
    "## 3D Vertex Model Example\n"
   ]
  },
  {
   "cell_type": "code",
   "execution_count": 1,
   "id": "d56727e1",
   "metadata": {},
   "outputs": [
    {
     "name": "stdout",
     "output_type": "stream",
     "text": [
      "Success: The path '..' contains the TopoSPAM repository.\n"
     ]
    }
   ],
   "source": [
    "import topospam as topospam\n",
    "%matplotlib inline\n",
    "repo_path=topospam.set_repo_path('..')"
   ]
  },
  {
   "cell_type": "markdown",
   "id": "5b7bda61",
   "metadata": {},
   "source": [
    "## Vertex Model\n",
    "\n",
    "where p is polarity vector. The meaning of the physical constants can be found in literature :\n",
    "\n",
    "(https://link.springer.com/article/10.1140/epje/s10189-021-00121-x)\n",
    "\n",
    "The main source code with intiial conditions is located in bin/Active2d.cpp. This file can be modified as per user needs for different geometries and initial conditions. "
   ]
  },
  {
   "cell_type": "code",
   "execution_count": 2,
   "id": "50e66358",
   "metadata": {},
   "outputs": [],
   "source": [
    "VertexModelSimulator = topospam.vertex_model(repo_path)"
   ]
  },
  {
   "cell_type": "code",
   "execution_count": 3,
   "id": "28f6b86e",
   "metadata": {},
   "outputs": [],
   "source": [
    "VertexModelSimulator.params.time_step    = 0.2\n",
    "# ...number of time steps after which is frame will be written to output\n",
    "VertexModelSimulator.params.ninfo    = 10\n",
    "# ...the simulation will continue for nframes frames.\n",
    "# ...therefore, total steps = nframes * ninfo\n",
    "VertexModelSimulator.params.nframes    = 100\n",
    "# ...if set, after this many frames the noise on polarity turns off\n",
    "# ...if commented out, it gets default value: std::numeric_limits<unsigned>::max()\n",
    "VertexModelSimulator.params.noiseoff    = 2800\n",
    "# ...by default vertices are constrained on a spherical surface.\n",
    "# ...to relax this constrain and allow for radial deformations, un-comment:\n",
    "#VertexModelSimulator.params.spherical_constrain       = 0\n",
    "\n",
    "# ==============================  model parameters     ===================================\n",
    "# ...number of cells\n",
    "VertexModelSimulator.params.Nc       = 200\n",
    "# ...cell area stiffness\n",
    "VertexModelSimulator.params.Kc       = 1.0\n",
    "# ...cell preferred area\n",
    "VertexModelSimulator.params.A0c       = 1.0\n",
    "# ...cell bond tension\n",
    "VertexModelSimulator.params.bond_Tension   = 0.1\n",
    "# ...cell perimeter elasticity\n",
    "VertexModelSimulator.params.perim_Elasticity   = 0.0\n",
    "# ...cut-off and opening lengths of bonds for T1\n",
    "VertexModelSimulator.params.bond_T1_cutoff   = 0.04\n",
    "VertexModelSimulator.params.bond_T1_opening   = 0.045\n",
    "\n",
    "# ...vertex friction coefficient with external environment\n",
    "VertexModelSimulator.params.xi       = 1.0\n",
    "\n",
    "# ================== initial patterns of cell polarity (default=randomized) =============\n",
    "VertexModelSimulator.params.P0_axissymmetric       = 1\n",
    "# ...if P0_axissymmetric is set to 1, the code uses the parameters:\n",
    "VertexModelSimulator.params.P0_a0_by_PI       = 0\n",
    "VertexModelSimulator.params.P0_b0_by_PI       = 0\n",
    "\n",
    "# ================== changes initial cellular network, for ensemble averages =============\n",
    "VertexModelSimulator.params.run_id       = 1\n",
    "\n",
    "# ...if you do not want to initialize with a predefined surface, set the following to zero\n",
    "# ... if set to zero, a random tissue will be generated (default=1)\n",
    "VertexModelSimulator.params.read_initsurface       = 1\n",
    "\n",
    "#  ============================  parameters for active terms =============================\n",
    "# ...cell traction force magnitude\n",
    "VertexModelSimulator.params.F_mag   = 0.02\n",
    "# ...rate of cell polarity alignment with neighbors\n",
    "VertexModelSimulator.params.P_gamma   = 0.005\n",
    "# ...rate of cell polarity alignment with cell velocity\n",
    "VertexModelSimulator.params.P_nu   = 0.0\n",
    "# ...strength of rotational noise in the polarity\n",
    "VertexModelSimulator.params.P_noise   = 0.001\n",
    "# ...polarity norm constrains\n",
    "VertexModelSimulator.params.elastic_polarity       = 1\n",
    "# ...if elastic_polarity is set to 1, instead of a hard constrain |p|=1, the molecular field\n",
    "# ...in polarity p dynamics will include the term:  P_A * (1. |p|^2 ) * p\n",
    "VertexModelSimulator.params.P_A       = 0.001\n",
    "\n",
    "#  ======================  setting seed and initial noise used for debugging =============\n",
    "VertexModelSimulator.params.noise   = 0.01\n",
    "VertexModelSimulator.params.seed   = 1"
   ]
  },
  {
   "cell_type": "code",
   "execution_count": 4,
   "id": "e2c98256",
   "metadata": {},
   "outputs": [
    {
     "name": "stdout",
     "output_type": "stream",
     "text": [
      "Preparation run time :                    0.046 s\n",
      "Algorithm run time :                    0.744 s\n"
     ]
    }
   ],
   "source": [
    "VertexModelSimulator.RunSimulation()"
   ]
  },
  {
   "cell_type": "code",
   "execution_count": 5,
   "id": "d91efb0e",
   "metadata": {},
   "outputs": [],
   "source": [
    "# ================================ initial configuration =====================\n",
    "# ...to stop outputing results un-comment this:\n",
    "#no_write       = 1\n",
    "# ...should I write the data to vtk files?\n",
    "VertexModelSimulator.analyzeParams.write_to_vtk       = 1\n",
    "# ...should I analyze the cell elongation patterns?\n",
    "VertexModelSimulator.analyzeParams.analyze_elongation       = 1\n",
    "# ...should I decompose apical surface to vector spherical harmonics modes\n",
    "VertexModelSimulator.analyzeParams.analyze_apical_surface_VSH       = 1\n",
    "# ...should I decompose cell polarity field to vector spherical harmonics modes\n",
    "VertexModelSimulator.analyzeParams.analyze_cell_polarity_VSH       = 1\n",
    "# ...should I analyze the coarse-grained curvature tensor on defined patches\n",
    "VertexModelSimulator.analyzeParams.compute_curvature_tensor       = 1\n",
    "# ...should I analyze tissue rotation, angular velocity and residual from solid body?\n",
    "VertexModelSimulator.analyzeParams.analyze_rotation       = 1\n",
    "# ...should I align such that rotation axis points to z-direction?\n",
    "VertexModelSimulator.analyzeParams.align_before_writing       = 1\n",
    "# ...should I analyze data in co-rotating fram?\n",
    "VertexModelSimulator.analyzeParams.analysis_in_corotating_frame       = 1\n",
    "# ... what kind of data should be written to vtk?\n",
    "VertexModelSimulator.analyzeParams.write_apical_polygonal_surface       = 1\n",
    "VertexModelSimulator.analyzeParams.write_basal_polygonal_surface       = 0\n",
    "VertexModelSimulator.analyzeParams.write_apical_triangulated_surface       = 1\n",
    "VertexModelSimulator.analyzeParams.write_basal_triangulated_surface       = 1\n",
    "VertexModelSimulator.analyzeParams.write_full_3D_triangulated_surface       = 1\n",
    "VertexModelSimulator.analyzeParams.write_polarity_field       = 1\n",
    "VertexModelSimulator.analyzeParams.write_nematic_field       = 1\n",
    "\n",
    "# ==============================  Model specific parameters     ===================================\n",
    "# ...the maximum l mode for vector spherical harmonics mode decomposition?\n",
    "VertexModelSimulator.analyzeParams.Lmax       = 4\n",
    "# ... first frame number inside data_dir to be analyzed\n",
    "VertexModelSimulator.analyzeParams.first_frame       = 1\n",
    "# ... last frame number inside data_dir to be analyzed\n",
    "VertexModelSimulator.analyzeParams.last_frame       = 100"
   ]
  },
  {
   "cell_type": "code",
   "execution_count": 6,
   "id": "5f0ff34f",
   "metadata": {},
   "outputs": [
    {
     "name": "stdout",
     "output_type": "stream",
     "text": [
      "100\n",
      "Analysis run time :                    37.407 s\n"
     ]
    }
   ],
   "source": [
    "VertexModelSimulator.AnalyzeData()"
   ]
  },
  {
   "cell_type": "code",
   "execution_count": 7,
   "id": "e91a5c79",
   "metadata": {},
   "outputs": [
    {
     "data": {
      "application/vnd.jupyter.widget-view+json": {
       "model_id": "86a0a26f54d647f799eecae3017987e7",
       "version_major": 2,
       "version_minor": 0
      },
      "text/plain": [
       "Widget(value='<iframe src=\"http://localhost:49771/index.html?ui=P_0x140c6edc0_0&reconnect=auto\" class=\"pyvista…"
      ]
     },
     "metadata": {},
     "output_type": "display_data"
    }
   ],
   "source": [
    "Plot=VertexModelSimulator.VizualizeIteration(10,edges=True)"
   ]
  },
  {
   "cell_type": "code",
   "execution_count": 8,
   "id": "7ed38f86",
   "metadata": {},
   "outputs": [],
   "source": [
    "VertexModelSimulator.VizualizeAnimate(gif_name=\"animation.gif\",edges=True)"
   ]
  },
  {
   "cell_type": "code",
   "execution_count": 9,
   "id": "5d1991ef",
   "metadata": {},
   "outputs": [
    {
     "data": {
      "text/html": [
       "<img src=\"./animation.gif\">"
      ],
      "text/plain": [
       "<IPython.core.display.HTML object>"
      ]
     },
     "execution_count": 9,
     "metadata": {},
     "output_type": "execute_result"
    }
   ],
   "source": [
    "from IPython.display import HTML\n",
    "HTML('<img src=\"./animation.gif\">')"
   ]
  },
  {
   "cell_type": "code",
   "execution_count": null,
   "id": "ada7ae8c",
   "metadata": {},
   "outputs": [],
   "source": []
  },
  {
   "cell_type": "code",
   "execution_count": null,
   "id": "78f7119e",
   "metadata": {},
   "outputs": [],
   "source": []
  }
 ],
 "metadata": {
  "kernelspec": {
   "display_name": "Python 3 (ipykernel)",
   "language": "python",
   "name": "python3"
  },
  "language_info": {
   "codemirror_mode": {
    "name": "ipython",
    "version": 3
   },
   "file_extension": ".py",
   "mimetype": "text/x-python",
   "name": "python",
   "nbconvert_exporter": "python",
   "pygments_lexer": "ipython3",
   "version": "3.8.19"
  }
 },
 "nbformat": 4,
 "nbformat_minor": 5
}
